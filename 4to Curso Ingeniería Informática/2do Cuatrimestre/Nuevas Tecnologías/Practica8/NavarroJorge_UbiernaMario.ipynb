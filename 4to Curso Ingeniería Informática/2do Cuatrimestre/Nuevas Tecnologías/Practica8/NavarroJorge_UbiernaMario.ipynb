{
 "cells": [
  {
   "cell_type": "markdown",
   "metadata": {},
   "source": [
    "# JORGE NAVARRO GONZÁLEZ - MARIO UBIERNA SAN MAMÉS\n",
    "\n",
    "## Práctica 8 - MODELO DE RED ALEATORIA DE GILBERT"
   ]
  },
  {
   "cell_type": "code",
   "execution_count": 9,
   "metadata": {},
   "outputs": [],
   "source": [
    "#Importaciones\n",
    "import networkx as nx\n",
    "import matplotlib.pyplot as plt\n",
    "import random as random\n",
    "import numpy as np\n",
    "import itertools\n",
    "import math\n",
    "from scipy import stats"
   ]
  },
  {
   "cell_type": "markdown",
   "metadata": {},
   "source": [
    "#### 1 Modelo Gilbert (1959)"
   ]
  },
  {
   "cell_type": "code",
   "execution_count": 2,
   "metadata": {},
   "outputs": [
    {
     "name": "stderr",
     "output_type": "stream",
     "text": [
      "E:\\Users\\Jorge\\Anaconda3\\lib\\site-packages\\networkx\\drawing\\nx_pylab.py:611: MatplotlibDeprecationWarning: isinstance(..., numbers.Number)\n",
      "  if cb.is_numlike(alpha):\n"
     ]
    },
    {
     "data": {
      "image/png": "[encoded data removed]",
      "text/plain": [
       "<Figure size 432x288 with 1 Axes>"
      ]
     },
     "metadata": {},
     "output_type": "display_data"
    }
   ],
   "source": [
    "# 1.1 Implementar en una función de python el algoritmo de generación de redes aleatorias de Gilbert G(N,p)\n",
    "\n",
    "def generar_probabilidad():\n",
    "    return random.uniform(0,1)\n",
    "\n",
    "def gilbert(probabilidad, nodos=10):\n",
    "    \n",
    "    G = nx.Graph(nombre='grafo') \n",
    "    G.add_nodes_from(list(range(nodos)))\n",
    "    \n",
    "    for i in itertools.combinations(list(range(nodos)), 2):    \n",
    "        if generar_probabilidad() < probabilidad:\n",
    "            G.add_edge(i[0],i[1])\n",
    "    return G\n",
    "\n",
    "G = gilbert(0.005, 100)\n",
    "nx.draw(G)"
   ]
  },
  {
   "cell_type": "code",
   "execution_count": 3,
   "metadata": {},
   "outputs": [
    {
     "name": "stdout",
     "output_type": "stream",
     "text": [
      "El número de nodos son: 100\n",
      "El número de enlaces son: 21\n",
      "El grado medio es: 0.42\n",
      "El grado máximo es: 2\n",
      "El grado mínimo es: 0\n",
      "El grado medio de clustering es: 0.0\n"
     ]
    }
   ],
   "source": [
    "# 1.2 Para una red generada mediante el modelo anterior G(100,0.005) calcular los estadísticos:\n",
    "n_nodos = G.number_of_nodes()\n",
    "n_enlaces  = G.number_of_edges()\n",
    "grados_nodos = []\n",
    "gradoMedio = 0\n",
    "gradoMaximo = 0\n",
    "clustering_medio = nx.average_clustering(G)\n",
    "\n",
    "for nodo in G.nodes():\n",
    "    gradoMedio += G.degree(nodo)\n",
    "    grados_nodos.append(G.degree(nodo))\n",
    "    \n",
    "print(\"El número de nodos son: \" +str(n_nodos))\n",
    "print(\"El número de enlaces son: \"+str(n_enlaces))\n",
    "print(\"El grado medio es: \" +str(sum(grados_nodos)/n_nodos))\n",
    "print(\"El grado máximo es: \" + str(max(grados_nodos)))\n",
    "print(\"El grado mínimo es: \" + str(min(grados_nodos)))\n",
    "print(\"El grado medio de clustering es: \" + str(clustering_medio))"
   ]
  },
  {
   "cell_type": "markdown",
   "metadata": {},
   "source": [
    "#### 2 Distribución de grado"
   ]
  },
  {
   "cell_type": "code",
   "execution_count": 4,
   "metadata": {},
   "outputs": [
    {
     "data": {
      "text/plain": [
       "(array([60.,  0.,  0., 34.,  0.,  0.,  4.,  0.,  0.,  2.]),\n",
       " array([0. , 0.3, 0.6, 0.9, 1.2, 1.5, 1.8, 2.1, 2.4, 2.7, 3. ]),\n",
       " <a list of 10 Patch objects>)"
      ]
     },
     "execution_count": 4,
     "metadata": {},
     "output_type": "execute_result"
    },
    {
     "data": {
      "image/png": "[encoded data removed]",
      "text/plain": [
       "<Figure size 432x288 with 1 Axes>"
      ]
     },
     "metadata": {
      "needs_background": "light"
     },
     "output_type": "display_data"
    }
   ],
   "source": [
    "# 2.1 2.1 Represente la distribución de grado de distintas realizaciones del modelo G(100,p) para los siguientes valores de p={0.005,0.05,0.5}. ¿Qué distribución de probabilidad sigue la distribución de grado?\n",
    "\n",
    "def grados_nodos(G):\n",
    "    grados = []\n",
    "    for nodo in G.nodes():\n",
    "        grados.append(G.degree(nodo))\n",
    "    return grados\n",
    "\n",
    "# Representación de la distribución para 100 nodos y p=0.005\n",
    "G = gilbert(0.005, 100)\n",
    "plt.hist(grados_nodos(G))\n"
   ]
  },
  {
   "cell_type": "code",
   "execution_count": 5,
   "metadata": {},
   "outputs": [
    {
     "data": {
      "text/plain": [
       "(array([ 3., 14., 18., 11., 32., 10.,  2.,  3.,  5.,  2.]),\n",
       " array([ 1. ,  1.9,  2.8,  3.7,  4.6,  5.5,  6.4,  7.3,  8.2,  9.1, 10. ]),\n",
       " <a list of 10 Patch objects>)"
      ]
     },
     "execution_count": 5,
     "metadata": {},
     "output_type": "execute_result"
    },
    {
     "data": {
      "image/png": "[encoded data removed]",
      "text/plain": [
       "<Figure size 432x288 with 1 Axes>"
      ]
     },
     "metadata": {
      "needs_background": "light"
     },
     "output_type": "display_data"
    }
   ],
   "source": [
    "# Representación de la distribución para 100 nodos y p=0.05\n",
    "G = gilbert(0.05, 100)\n",
    "plt.hist(grados_nodos(G))"
   ]
  },
  {
   "cell_type": "code",
   "execution_count": 6,
   "metadata": {},
   "outputs": [
    {
     "data": {
      "text/plain": [
       "(array([ 1.,  6.,  5., 17., 21., 21., 15.,  9.,  2.,  3.]),\n",
       " array([36. , 38.6, 41.2, 43.8, 46.4, 49. , 51.6, 54.2, 56.8, 59.4, 62. ]),\n",
       " <a list of 10 Patch objects>)"
      ]
     },
     "execution_count": 6,
     "metadata": {},
     "output_type": "execute_result"
    },
    {
     "data": {
      "image/png": "[encoded data removed]",
      "text/plain": [
       "<Figure size 432x288 with 1 Axes>"
      ]
     },
     "metadata": {
      "needs_background": "light"
     },
     "output_type": "display_data"
    }
   ],
   "source": [
    "# Representación de la distribución para 100 nodos y p=0.5\n",
    "G = gilbert(0.5, 100)\n",
    "plt.hist(grados_nodos(G))"
   ]
  },
  {
   "cell_type": "code",
   "execution_count": 7,
   "metadata": {},
   "outputs": [],
   "source": [
    "# ¿Qué distribución de probabilidad sigue la distribución de grado?\n",
    "# Sigue la distribución de Poisson, ya que nos permite determinar el número de hechos que se pueden producir\n",
    "# en un intervalo, bajo una cierta aleatoriedad."
   ]
  },
  {
   "cell_type": "markdown",
   "metadata": {},
   "source": [
    "#### 3 Aparición del componente gigante"
   ]
  },
  {
   "cell_type": "code",
   "execution_count": 11,
   "metadata": {},
   "outputs": [],
   "source": [
    "nodos = 1000\n",
    "conj_valores_kj=np.linspace(0,math.log(nodos),num=50)\n",
    "\n",
    "maxCom=0\n",
    "calculo=[]\n",
    "\n",
    "#Replicas y dividir kj/nodos como dice en los apuntes a tener en cuenta\n",
    "replicas = 30\n",
    "valor_pj = conj_valores_kj/nodos\n",
    "\n",
    "for pj in valor_pj:\n",
    "    maximoCom = []\n",
    "    for i in range(replicas):\n",
    "        #prob.append(pj)\n",
    "        G=gilbert(pj, 1000)\n",
    "        #bucle de los apuntes a tener en cuenta\n",
    "        maxCom=np.max([len(c) for c in nx.components.connected_components(G)])\n",
    "        maximoCom.append(maxCom)\n",
    "    media_ng = np.mean(maximoCom)\n",
    "    division_ng_nodos = media_ng / nodos\n",
    "    calculo.append(division_ng_nodos)"
   ]
  },
  {
   "cell_type": "code",
   "execution_count": 12,
   "metadata": {},
   "outputs": [
    {
     "data": {
      "text/plain": [
       "[<matplotlib.lines.Line2D at 0x1b09560e4e0>]"
      ]
     },
     "execution_count": 12,
     "metadata": {},
     "output_type": "execute_result"
    },
    {
     "data": {
      "image/png": "[encoded data removed]",
      "text/plain": [
       "<Figure size 432x288 with 1 Axes>"
      ]
     },
     "metadata": {
      "needs_background": "light"
     },
     "output_type": "display_data"
    }
   ],
   "source": [
    "plt.plot(conj_valores_kj,calculo)"
   ]
  },
  {
   "cell_type": "code",
   "execution_count": null,
   "metadata": {},
   "outputs": [],
   "source": []
  }
 ],
 "metadata": {
  "kernelspec": {
   "display_name": "Python 3",
   "language": "python",
   "name": "python3"
  },
  "language_info": {
   "codemirror_mode": {
    "name": "ipython",
    "version": 3
   },
   "file_extension": ".py",
   "mimetype": "text/x-python",
   "name": "python",
   "nbconvert_exporter": "python",
   "pygments_lexer": "ipython3",
   "version": "3.7.1"
  }
 },
 "nbformat": 4,
 "nbformat_minor": 2
}
